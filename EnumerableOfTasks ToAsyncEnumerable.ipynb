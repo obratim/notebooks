{
 "cells": [
  {
   "cell_type": "code",
   "execution_count": 6,
   "metadata": {
    "dotnet_interactive": {
     "language": "csharp"
    },
    "polyglot_notebook": {
     "kernelName": "csharp"
    }
   },
   "outputs": [],
   "source": [
    "IEnumerable<Task<int>> EnumerableOfTasks()\n",
    "{\n",
    "    for (var i = 0; i < 20; ++i)\n",
    "        yield return CreateTask(Random.Shared.Next(200, 7000));\n",
    "    \n",
    "    static async Task<int> CreateTask(int i)\n",
    "    {\n",
    "        await Task.Delay(i);\n",
    "        return i;\n",
    "    }\n",
    "}"
   ]
  },
  {
   "cell_type": "code",
   "execution_count": 2,
   "metadata": {
    "dotnet_interactive": {
     "language": "csharp"
    },
    "polyglot_notebook": {
     "kernelName": "csharp"
    }
   },
   "outputs": [
    {
     "data": {
      "text/html": [
       "<div><div></div><div></div><div><strong>Installed Packages</strong><ul><li><span>System.Linq.Async, 6.0.1</span></li><li><span>System.Reactive, 6.0.0</span></li></ul></div></div>"
      ]
     },
     "metadata": {},
     "output_type": "display_data"
    }
   ],
   "source": [
    "#r \"nuget: System.Linq.Async\"\n",
    "#r \"nuget: System.Reactive\"\n",
    "using System.Reactive.Linq;\n",
    "using System.Reactive.Threading.Tasks;"
   ]
  },
  {
   "cell_type": "code",
   "execution_count": 3,
   "metadata": {
    "dotnet_interactive": {
     "language": "csharp"
    },
    "polyglot_notebook": {
     "kernelName": "csharp"
    }
   },
   "outputs": [],
   "source": [
    "IAsyncEnumerable<T> ToAsyncEnumerable<T>(IEnumerable<Task<T>> enumerableOfTasks)\n",
    "{\n",
    "\t//return enumerableOfTasks.ToAsyncEnumerable().SelectMany(x => x.ToAsyncEnumerable());\n",
    "\treturn enumerableOfTasks\n",
    "\t\t.ToObservable()\n",
    "\t\t.Select(x => x.ToObservable())\n",
    "\t\t.Merge()\n",
    "\t\t.ToAsyncEnumerable();\n",
    "}"
   ]
  },
  {
   "cell_type": "code",
   "execution_count": 10,
   "metadata": {
    "dotnet_interactive": {
     "language": "csharp"
    },
    "polyglot_notebook": {
     "kernelName": "csharp"
    }
   },
   "outputs": [
    {
     "name": "stdout",
     "output_type": "stream",
     "text": [
      "[207]; [679]; [709]; [1558]; [1901]; [1925]; [1921]; [2228]; [2247]; [2610]; [2778]; [2804]; [3219]; [3315]; [3842]; [4888]; [5519]; [5644]; [5834]; [6550]; "
     ]
    },
    {
     "data": {
      "text/plain": [
       "Wall time: 6643.2578ms"
      ]
     },
     "metadata": {},
     "output_type": "display_data"
    }
   ],
   "source": [
    "#!time\n",
    "await foreach (var i in ToAsyncEnumerable(EnumerableOfTasks()))\n",
    "    Console.Write(\"[{0}]; \", i);"
   ]
  }
 ],
 "metadata": {
  "kernelspec": {
   "display_name": ".NET (C#)",
   "language": "C#",
   "name": ".net-csharp"
  },
  "language_info": {
   "name": "polyglot-notebook"
  },
  "polyglot_notebook": {
   "kernelInfo": {
    "defaultKernelName": "csharp",
    "items": [
     {
      "aliases": [],
      "languageName": "csharp",
      "name": "csharp"
     }
    ]
   }
  }
 },
 "nbformat": 4,
 "nbformat_minor": 2
}
