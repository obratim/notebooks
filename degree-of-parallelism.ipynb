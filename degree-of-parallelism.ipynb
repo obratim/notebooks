{
 "cells": [
  {
   "cell_type": "code",
   "execution_count": null,
   "metadata": {
    "dotnet_interactive": {
     "language": "csharp"
    }
   },
   "outputs": [
    {
     "data": {
      "text/html": [
       "<div><div></div><div></div><div><strong>Installed Packages</strong><ul><li><span>System.Linq.Async, 6.0.1</span></li><li><span>System.Reactive, 5.0.0</span></li></ul></div></div>"
      ]
     },
     "metadata": {},
     "output_type": "display_data"
    }
   ],
   "source": [
    "#r \"nuget: System.Reactive\"\n",
    "#r \"nuget: System.Linq.Async\"\n",
    "using System.Reactive;\n",
    "using System.Reactive.Linq;\n",
    "using System.Reactive.Subjects;"
   ]
  },
  {
   "cell_type": "code",
   "execution_count": null,
   "metadata": {
    "dotnet_interactive": {
     "language": "csharp"
    }
   },
   "outputs": [],
   "source": [
    "public static async Task Process<T>(int thread, T value)\n",
    "{\n",
    "\tawait Task.Delay(2000);\n",
    "\t$\"[{thread}] {value}\".Display();\n",
    "}"
   ]
  },
  {
   "cell_type": "code",
   "execution_count": null,
   "metadata": {
    "dotnet_interactive": {
     "language": "csharp"
    }
   },
   "outputs": [],
   "source": [
    "static async IAsyncEnumerable<int> Range(int start, int count)\n",
    "{\n",
    "\tfor (var i = 0; i < count; ++i)\n",
    "\t{\n",
    "\t\tawait Task.Delay(50);\n",
    "\t\tyield return start;\n",
    "\t\t++start;\n",
    "\t}\n",
    "}"
   ]
  },
  {
   "cell_type": "code",
   "execution_count": null,
   "metadata": {
    "dotnet_interactive": {
     "language": "csharp"
    }
   },
   "outputs": [],
   "source": [
    "static class Helper\n",
    "{\n",
    "\tpublic static Task ForEachAwaitAsync<T>(/*this*/ IAsyncEnumerable<T> enumerable, Func<int, T, Task> handler, int degreeOfParallelism)\n",
    "\t{\n",
    "\t\tvar subj = new BehaviorSubject<T>(default(T));\n",
    "\t\tvar tasks = new Task[degreeOfParallelism];\n",
    "\n",
    "\t\tFunc<T, int, bool> createFilter(int degree, int id) => (x, i) => (i % degree) == id;\n",
    "\t\t\n",
    "\t\tFunc<T, Task> createHandler(int id, Func<int, T, Task> basicHandler) => x => basicHandler(id, x);\n",
    "\t\t\n",
    "\t\tfor (var id = 0; id < degreeOfParallelism; ++id)\n",
    "\t\t\ttasks[id] = subj.Skip(1).Where(createFilter(degreeOfParallelism, id)).ToAsyncEnumerable().ForEachAwaitAsync(createHandler(id, handler));\n",
    "\t\t\n",
    "\t\tenumerable.ToObservable().Subscribe(subj);\n",
    "\t\t\t\n",
    "\t\treturn Task.WhenAll(tasks);\n",
    "\t}\n",
    "}"
   ]
  },
  {
   "cell_type": "code",
   "execution_count": null,
   "metadata": {
    "dotnet_interactive": {
     "language": "csharp"
    }
   },
   "outputs": [
    {
     "data": {
      "text/plain": [
       "[0] 200"
      ]
     },
     "metadata": {},
     "output_type": "display_data"
    },
    {
     "data": {
      "text/plain": [
       "[1] 201"
      ]
     },
     "metadata": {},
     "output_type": "display_data"
    },
    {
     "data": {
      "text/plain": [
       "[2] 202"
      ]
     },
     "metadata": {},
     "output_type": "display_data"
    },
    {
     "data": {
      "text/plain": [
       "[3] 203"
      ]
     },
     "metadata": {},
     "output_type": "display_data"
    },
    {
     "data": {
      "text/plain": [
       "[4] 204"
      ]
     },
     "metadata": {},
     "output_type": "display_data"
    },
    {
     "data": {
      "text/plain": [
       "[0] 205"
      ]
     },
     "metadata": {},
     "output_type": "display_data"
    },
    {
     "data": {
      "text/plain": [
       "[1] 206"
      ]
     },
     "metadata": {},
     "output_type": "display_data"
    },
    {
     "data": {
      "text/plain": [
       "[2] 207"
      ]
     },
     "metadata": {},
     "output_type": "display_data"
    },
    {
     "data": {
      "text/plain": [
       "[3] 208"
      ]
     },
     "metadata": {},
     "output_type": "display_data"
    },
    {
     "data": {
      "text/plain": [
       "[4] 209"
      ]
     },
     "metadata": {},
     "output_type": "display_data"
    },
    {
     "data": {
      "text/plain": [
       "[0] 210"
      ]
     },
     "metadata": {},
     "output_type": "display_data"
    },
    {
     "data": {
      "text/plain": [
       "[1] 211"
      ]
     },
     "metadata": {},
     "output_type": "display_data"
    },
    {
     "data": {
      "text/plain": [
       "[2] 212"
      ]
     },
     "metadata": {},
     "output_type": "display_data"
    },
    {
     "data": {
      "text/plain": [
       "[3] 213"
      ]
     },
     "metadata": {},
     "output_type": "display_data"
    },
    {
     "data": {
      "text/plain": [
       "[4] 214"
      ]
     },
     "metadata": {},
     "output_type": "display_data"
    },
    {
     "data": {
      "text/plain": [
       "[0] 215"
      ]
     },
     "metadata": {},
     "output_type": "display_data"
    },
    {
     "data": {
      "text/plain": [
       "[1] 216"
      ]
     },
     "metadata": {},
     "output_type": "display_data"
    },
    {
     "data": {
      "text/plain": [
       "[2] 217"
      ]
     },
     "metadata": {},
     "output_type": "display_data"
    },
    {
     "data": {
      "text/plain": [
       "[3] 218"
      ]
     },
     "metadata": {},
     "output_type": "display_data"
    },
    {
     "data": {
      "text/plain": [
       "[4] 219"
      ]
     },
     "metadata": {},
     "output_type": "display_data"
    }
   ],
   "source": [
    "await Helper.ForEachAwaitAsync(\n",
    "    Range(200, 20).Select(i => i.ToString()),\n",
    "    (id, x) => Process(id, x),\n",
    "    5)\n"
   ]
  }
 ],
 "metadata": {
  "kernelspec": {
   "display_name": ".NET (C#)",
   "language": "C#",
   "name": ".net-csharp"
  },
  "language_info": {
   "name": "C#"
  }
 },
 "nbformat": 4,
 "nbformat_minor": 2
}
