{
 "cells": [
  {
   "cell_type": "code",
   "execution_count": null,
   "metadata": {
    "dotnet_interactive": {
     "language": "csharp"
    },
    "vscode": {
     "languageId": "dotnet-interactive.csharp"
    }
   },
   "outputs": [],
   "source": [
    "static IEnumerable<IEnumerable<T>> Chunk<T>(IEnumerable<T> items, int size)\n",
    "{\n",
    "    using var enumerator = items.GetEnumerator();\n",
    "    if (!enumerator.MoveNext())\n",
    "        yield break;\n",
    "    \n",
    "    var enumeratorCompleted = false;\n",
    "    \n",
    "    IEnumerable<T> YieldChunk()\n",
    "    {\n",
    "        for (var i = 0; i < size; ++i)\n",
    "        {\n",
    "            yield return enumerator.Current;\n",
    "            if (!enumerator.MoveNext())\n",
    "            {\n",
    "                enumeratorCompleted = true;\n",
    "                yield break;\n",
    "            }\n",
    "        }\n",
    "    }\n",
    "\n",
    "    while (!enumeratorCompleted)\n",
    "        yield return YieldChunk();\n",
    "}"
   ]
  },
  {
   "cell_type": "code",
   "execution_count": null,
   "metadata": {
    "dotnet_interactive": {
     "language": "csharp"
    },
    "vscode": {
     "languageId": "dotnet-interactive.csharp"
    }
   },
   "outputs": [],
   "source": [
    "var enumerable = Enumerable.Range(65, 58).Select(i => (char)i);"
   ]
  },
  {
   "cell_type": "code",
   "execution_count": null,
   "metadata": {
    "dotnet_interactive": {
     "language": "csharp"
    },
    "vscode": {
     "languageId": "dotnet-interactive.csharp"
    }
   },
   "outputs": [
    {
     "data": {
      "text/html": [
       "<table><thead><tr><th><i>index</i></th><th>value</th></tr></thead><tbody><tr><td>0</td><td><div class=\"dni-plaintext\">[ A, B, C, D, E ]</div></td></tr><tr><td>1</td><td><div class=\"dni-plaintext\">[ F, G, H, I, J ]</div></td></tr><tr><td>2</td><td><div class=\"dni-plaintext\">[ K, L, M, N, O ]</div></td></tr><tr><td>3</td><td><div class=\"dni-plaintext\">[ P, Q, R, S, T ]</div></td></tr><tr><td>4</td><td><div class=\"dni-plaintext\">[ U, V, W, X, Y ]</div></td></tr><tr><td>5</td><td><div class=\"dni-plaintext\">[ Z, [, \\, ], ^ ]</div></td></tr><tr><td>6</td><td><div class=\"dni-plaintext\">[ _, `, a, b, c ]</div></td></tr><tr><td>7</td><td><div class=\"dni-plaintext\">[ d, e, f, g, h ]</div></td></tr><tr><td>8</td><td><div class=\"dni-plaintext\">[ i, j, k, l, m ]</div></td></tr><tr><td>9</td><td><div class=\"dni-plaintext\">[ n, o, p, q, r ]</div></td></tr><tr><td>10</td><td><div class=\"dni-plaintext\">[ s, t, u, v, w ]</div></td></tr><tr><td>11</td><td><div class=\"dni-plaintext\">[ x, y, z ]</div></td></tr></tbody></table>"
      ]
     },
     "metadata": {},
     "output_type": "display_data"
    }
   ],
   "source": [
    "var items = Chunk(enumerable, 5);\n",
    "\n",
    "//foreach (var x in items)\n",
    "//    x.Display();\n",
    "\n",
    "items.Select(x => x.ToList())"
   ]
  },
  {
   "cell_type": "code",
   "execution_count": null,
   "metadata": {
    "dotnet_interactive": {
     "language": "csharp"
    },
    "vscode": {
     "languageId": "dotnet-interactive.csharp"
    }
   },
   "outputs": [
    {
     "data": {
      "text/html": [
       "<table><thead><tr><th><i>index</i></th><th>value</th></tr></thead><tbody><tr><td>0</td><td><div class=\"dni-plaintext\">[ A, B, C, D, E ]</div></td></tr><tr><td>1</td><td><div class=\"dni-plaintext\">[ F, G, H, I, J ]</div></td></tr><tr><td>2</td><td><div class=\"dni-plaintext\">[ K, L, M, N, O ]</div></td></tr><tr><td>3</td><td><div class=\"dni-plaintext\">[ P, Q, R, S, T ]</div></td></tr><tr><td>4</td><td><div class=\"dni-plaintext\">[ U, V, W, X, Y ]</div></td></tr><tr><td>5</td><td><div class=\"dni-plaintext\">[ Z, [, \\, ], ^ ]</div></td></tr><tr><td>6</td><td><div class=\"dni-plaintext\">[ _, `, a, b, c ]</div></td></tr><tr><td>7</td><td><div class=\"dni-plaintext\">[ d, e, f, g, h ]</div></td></tr><tr><td>8</td><td><div class=\"dni-plaintext\">[ i, j, k, l, m ]</div></td></tr><tr><td>9</td><td><div class=\"dni-plaintext\">[ n, o, p, q, r ]</div></td></tr><tr><td>10</td><td><div class=\"dni-plaintext\">[ s, t, u, v, w ]</div></td></tr><tr><td>11</td><td><div class=\"dni-plaintext\">[ x, y, z ]</div></td></tr></tbody></table>"
      ]
     },
     "metadata": {},
     "output_type": "display_data"
    }
   ],
   "source": [
    "enumerable.Chunk(5)//.Select(x => x.ToList())"
   ]
  }
 ],
 "metadata": {
  "kernelspec": {
   "display_name": ".NET (C#)",
   "language": "C#",
   "name": ".net-csharp"
  },
  "language_info": {
   "name": "C#"
  }
 },
 "nbformat": 4,
 "nbformat_minor": 2
}
