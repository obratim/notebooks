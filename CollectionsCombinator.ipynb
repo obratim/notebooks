{
 "cells": [
  {
   "cell_type": "code",
   "execution_count": null,
   "metadata": {
    "dotnet_interactive": {
     "language": "csharp"
    },
    "vscode": {
     "languageId": "dotnet-interactive.csharp"
    }
   },
   "outputs": [],
   "source": [
    "class CollectionsCombinator<T>\n",
    "{\n",
    "\tpublic ICollection<T> Items { get; set; }\n",
    "\tpublic CollectionsCombinator<T> Child { get; set; }\n",
    "\n",
    "\n",
    "\tpublic CollectionsCombinator() { }\n",
    "\tpublic CollectionsCombinator(IEnumerable<IEnumerable<T>> items)\n",
    "\t{\n",
    "\t\tvar instance = this;\n",
    "\n",
    "\t\tforeach (var sublitems in items)\n",
    "\t\t{\n",
    "\t\t\tif (sublitems == null)\n",
    "\t\t\t\tcontinue;\n",
    "\t\t\t\n",
    "\t\t\tinstance.Items = sublitems.ToList();\n",
    "\t\t\tvar next = new CollectionsCombinator<T>();\n",
    "\t\t\tinstance.Child = next;\n",
    "\t\t\tinstance = next;\n",
    "\t\t}\n",
    "\t}\n",
    "\n",
    "\n",
    "\tpublic IEnumerable<IEnumerable<T>> Combinations()\n",
    "\t{\n",
    "\t\tif (Items?.Any() == true)\n",
    "\t\t\treturn CombinationsImpl();\n",
    "\n",
    "\t\tif (Child != null)\n",
    "\t\t\treturn Child.Combinations();\n",
    "\n",
    "\t\treturn Enumerable.Repeat(Array.Empty<T>(), 0);\n",
    "\t}\n",
    "\t\n",
    "\tprivate IEnumerable<IEnumerable<T>> CombinationsImpl()\n",
    "\t{\n",
    "\t\tbool flag = false;\n",
    "\t\t{\n",
    "\t\t\tforeach (var item in Items)\n",
    "\t\t\t\tforeach (var tail in Child.Combinations())\n",
    "\t\t\t\t{\n",
    "\t\t\t\t\tyield return Enumerable.Repeat(item, 1).Concat(tail);\n",
    "\t\t\t\t\tflag = true;\n",
    "\t\t\t\t}\n",
    "\t\t}\n",
    "\t\t\n",
    "\t\tif (!flag)\n",
    "\t\t\tforeach (var item in Items)\n",
    "\t\t\t{\n",
    "\t\t\t\tyield return Enumerable.Repeat(item, 1);\n",
    "\t\t\t}\n",
    "\t}\n",
    "}"
   ]
  },
  {
   "cell_type": "code",
   "execution_count": null,
   "metadata": {
    "dotnet_interactive": {
     "language": "csharp"
    },
    "vscode": {
     "languageId": "dotnet-interactive.csharp"
    }
   },
   "outputs": [],
   "source": [
    "static class CollectionsCombinator\n",
    "{\n",
    "    public static CollectionsCombinator<T> Create<T>(IEnumerable<IEnumerable<T>> items)\n",
    "        =>\n",
    "            new CollectionsCombinator<T>(items);\n",
    "}"
   ]
  },
  {
   "cell_type": "code",
   "execution_count": null,
   "metadata": {
    "dotnet_interactive": {
     "language": "csharp"
    },
    "vscode": {
     "languageId": "dotnet-interactive.csharp"
    }
   },
   "outputs": [
    {
     "data": {
      "text/html": [
       "<table><thead><tr><th><i>index</i></th><th>value</th></tr></thead><tbody><tr><td>0</td><td><div class=\"dni-plaintext\">[ @, 1, i, x ]</div></td></tr><tr><td>1</td><td><div class=\"dni-plaintext\">[ @, 1, i, y ]</div></td></tr><tr><td>2</td><td><div class=\"dni-plaintext\">[ @, 1, i, z ]</div></td></tr><tr><td>3</td><td><div class=\"dni-plaintext\">[ @, 1, j, x ]</div></td></tr><tr><td>4</td><td><div class=\"dni-plaintext\">[ @, 1, j, y ]</div></td></tr><tr><td>5</td><td><div class=\"dni-plaintext\">[ @, 1, j, z ]</div></td></tr><tr><td>6</td><td><div class=\"dni-plaintext\">[ @, 2, i, x ]</div></td></tr><tr><td>7</td><td><div class=\"dni-plaintext\">[ @, 2, i, y ]</div></td></tr><tr><td>8</td><td><div class=\"dni-plaintext\">[ @, 2, i, z ]</div></td></tr><tr><td>9</td><td><div class=\"dni-plaintext\">[ @, 2, j, x ]</div></td></tr><tr><td>10</td><td><div class=\"dni-plaintext\">[ @, 2, j, y ]</div></td></tr><tr><td>11</td><td><div class=\"dni-plaintext\">[ @, 2, j, z ]</div></td></tr><tr><td>12</td><td><div class=\"dni-plaintext\">[ @, 3, i, x ]</div></td></tr><tr><td>13</td><td><div class=\"dni-plaintext\">[ @, 3, i, y ]</div></td></tr><tr><td>14</td><td><div class=\"dni-plaintext\">[ @, 3, i, z ]</div></td></tr><tr><td>15</td><td><div class=\"dni-plaintext\">[ @, 3, j, x ]</div></td></tr><tr><td>16</td><td><div class=\"dni-plaintext\">[ @, 3, j, y ]</div></td></tr><tr><td>17</td><td><div class=\"dni-plaintext\">[ @, 3, j, z ]</div></td></tr></tbody></table>"
      ]
     },
     "metadata": {},
     "output_type": "display_data"
    }
   ],
   "source": [
    "CollectionsCombinator.Create(new[] { \"@\", \"123\", \"\", null, \"ij\", \"xyz\" }).Combinations()"
   ]
  }
 ],
 "metadata": {
  "kernelspec": {
   "display_name": ".NET (C#)",
   "language": "C#",
   "name": ".net-csharp"
  },
  "language_info": {
   "name": "C#"
  }
 },
 "nbformat": 4,
 "nbformat_minor": 2
}
