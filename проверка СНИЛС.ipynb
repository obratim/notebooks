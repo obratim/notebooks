{
 "cells": [
  {
   "cell_type": "markdown",
   "metadata": {
    "dotnet_interactive": {
     "language": "csharp"
    }
   },
   "source": [
    "# Проверка СНИЛС\n"
   ]
  },
  {
   "cell_type": "code",
   "execution_count": null,
   "metadata": {
    "dotnet_interactive": {
     "language": "csharp"
    }
   },
   "outputs": [],
   "source": [
    "var snils = \"165-215-053 41\";"
   ]
  },
  {
   "cell_type": "code",
   "execution_count": null,
   "metadata": {
    "dotnet_interactive": {
     "language": "csharp"
    }
   },
   "outputs": [
    {
     "data": {
      "text/html": [
       "<table><thead><tr><th>snilsNumber</th><th>snilsChecksum</th><th>sum</th><th>checksum</th></tr></thead><tbody><tr><td><div class=\"dni-plaintext\">[ 1, 6, 5, 2, 1, 5, 0, 5, 3 ]</div></td><td><div class=\"dni-plaintext\">41</div></td><td><div class=\"dni-plaintext\">142</div></td><td><div class=\"dni-plaintext\">41</div></td></tr></tbody></table>"
      ]
     },
     "metadata": {},
     "output_type": "display_data"
    }
   ],
   "source": [
    "var snilsFiltered = new List<char>(11);\n",
    "snilsFiltered.AddRange(snils.Where(c => c >= '0' && c <= '9'));\n",
    "\n",
    "if (snilsFiltered.Count != 11)\n",
    "    throw new Exception(\"Некорректный снилс. Должно быть 9 цифр номера и 2 контрольной суммы\");\n",
    "\n",
    "var snilsNumber = snilsFiltered.Take(9);\n",
    "var snilsChecksum = int.Parse(snilsFiltered.Skip(9).Take(2).ToArray());\n",
    "\n",
    "var i = 9;\n",
    "var sum = 0;\n",
    "foreach (var c in snilsNumber)\n",
    "    sum += (c - '0') * i--;\n",
    "\n",
    "new { snilsNumber, snilsChecksum, sum, checksum = sum % 101 }"
   ]
  }
 ],
 "metadata": {
  "kernelspec": {
   "display_name": ".NET (C#)",
   "language": "C#",
   "name": ".net-csharp"
  },
  "language_info": {
   "name": "C#"
  }
 },
 "nbformat": 4,
 "nbformat_minor": 2
}
