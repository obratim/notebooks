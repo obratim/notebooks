{
 "cells": [
  {
   "cell_type": "markdown",
   "metadata": {
    "dotnet_interactive": {
     "language": "csharp"
    }
   },
   "source": [
    "**как должно работать:**\n",
    "\n",
    "- формируем пул буферов: n штук заполненых последовательно из экземпляра Random\n",
    "- поддерживаем кол-во буферов:\n",
    "   - по мере расходования, когда вынули буфер из пула, даём команду на формирование ещё одного буфера\n",
    "   - пулинг\n",
    "- нужен класс (лучше с генериком для поддержки double, integer и т.д.), экземпляр которого:\n",
    "   1) хранит буфер случайных чисел\n",
    "   2) может отдавать следующее случайное число, вне зависимости откуда пришёл вызов, либо сообщать что буфер закончился\n",
    "   3) возвращает буфер в пул, либо сам возвращается в пул\n",
    "\n",
    "- нужен статический диспетчер, который:\n",
    "   - держит коллекцию вышеобозначенных объектов\n",
    "   - имеет статический метод для выдачи случайных чисел:\n",
    "      1) при вызове выбираем один из объектов\n",
    "      2) вызваем у выбранного объекта метод получения случайного числа\n",
    "      3) если овет что у объекта буфер закончился, то:\n",
    "         - запускаем отдельную таску по восстановлению объекрта\n",
    "         - выполняем п. 1\n",
    "   - например, распорядитель может у себя держать очередь из объектов; при вызове метода получения следующего случайного числа, распорядитель:\n",
    "      1. вынимает объект из очереди, или создаёт новый\n",
    "      2. вызывает у полученного объекта метод получения следующего случайного числа\n",
    "      3.\n",
    "         - если получено число - возвращаем объект обратно в очередь\n",
    "         - если буфер закончился - добавляем объект в отдельную очередь на восстановление"
   ]
  },
  {
   "cell_type": "code",
   "execution_count": null,
   "metadata": {
    "dotnet_interactive": {
     "language": "csharp"
    }
   },
   "outputs": [],
   "source": [
    "record struct NextResult<T> (bool Success, T Value);\n",
    "\n",
    "static class NextResult\n",
    "{\n",
    "    public static NextResult<T> Success<T>(T value) => new NextResult<T>(true, value);\n",
    "    public static NextResult<T> Fail<T>() => new NextResult<T>(false, default);\n",
    "}"
   ]
  },
  {
   "cell_type": "code",
   "execution_count": null,
   "metadata": {
    "dotnet_interactive": {
     "language": "csharp"
    }
   },
   "outputs": [],
   "source": [
    "class BufferKeeper<T>\n",
    "{\n",
    "    private T[] _buffer;\n",
    "    private int _index = -1;\n",
    "\n",
    "    public BufferKeeper(int bufferSize)\n",
    "    {\n",
    "        _buffer = new T[bufferSize];\n",
    "    }\n",
    "\n",
    "    public NextResult<T> Next()\n",
    "    {\n",
    "        lock (this)\n",
    "        {\n",
    "            if (++_index >= _buffer.Length)\n",
    "                return NextResult.Fail<T>();\n",
    "            \n",
    "            return NextResult.Success(_buffer[_index]);\n",
    "        }\n",
    "    }\n",
    "\n",
    "    public bool HasValues()\n",
    "    {\n",
    "        lock (this)\n",
    "        {\n",
    "            return _index < _buffer.Length;\n",
    "        }\n",
    "    }\n",
    "\n",
    "    public void Restore(Func<T> next)\n",
    "    {\n",
    "        lock (this)\n",
    "        {\n",
    "            if (_index == 0)\n",
    "                return;\n",
    "            \n",
    "            for (var i = 0; i < _buffer.Length; ++i)\n",
    "                _buffer[i] = next();\n",
    "            \n",
    "            _index = 0;\n",
    "        }\n",
    "    }\n",
    "}"
   ]
  },
  {
   "cell_type": "code",
   "execution_count": null,
   "metadata": {
    "dotnet_interactive": {
     "language": "csharp"
    }
   },
   "outputs": [],
   "source": [
    "using System.Threading.Tasks;\n",
    "\n",
    "class SequentionalScheduler\n",
    "{\n",
    "    private Task _prevTask = Task.CompletedTask;\n",
    "\n",
    "    public Task Run(Action job)\n",
    "    {\n",
    "        lock (this)\n",
    "        {\n",
    "            return _prevTask = _prevTask.ContinueWith(t => job());\n",
    "        }\n",
    "    }\n",
    "\n",
    "    public Task Run(Action<Task, object> job, object o)\n",
    "    {\n",
    "        lock (this)\n",
    "        {\n",
    "            return _prevTask = _prevTask.ContinueWith(job, o);\n",
    "        }\n",
    "    }\n",
    "\n",
    "    public Task Run(Func<Task> job)\n",
    "    {\n",
    "        lock (this)\n",
    "        {\n",
    "            return _prevTask = _prevTask.ContinueWith(async t => await job());\n",
    "        }\n",
    "    }\n",
    "}"
   ]
  },
  {
   "cell_type": "code",
   "execution_count": null,
   "metadata": {
    "dotnet_interactive": {
     "language": "csharp"
    }
   },
   "outputs": [],
   "source": [
    "using System.Collections.Concurrent;\n",
    "\n",
    "abstract class ARandomValuesDispatcher<T>\n",
    "{\n",
    "    private readonly ConcurrentQueue<BufferKeeper<T>> _buffersQueue = new ConcurrentQueue<BufferKeeper<T>>();\n",
    "    private readonly SequentionalScheduler _scheduler = new SequentionalScheduler();\n",
    "    private readonly int _bufferSize;\n",
    "\n",
    "    public TimeSpan RetryPause { get; set; } = TimeSpan.FromMilliseconds(5);\n",
    "\n",
    "    public ARandomValuesDispatcher(uint queueSize, int bufferSize)\n",
    "    {\n",
    "        _bufferSize = bufferSize;\n",
    "        for (var i = 0; i < queueSize; ++i)\n",
    "        {\n",
    "            RestoreKeeper(new BufferKeeper<T>(bufferSize));\n",
    "        }\n",
    "    }\n",
    "\n",
    "    public T Next()\n",
    "    {\n",
    "        while (true)\n",
    "        {\n",
    "            BufferKeeper<T> keeper;\n",
    "            while (!_buffersQueue.TryDequeue(out keeper));\n",
    "\n",
    "            var result = keeper.Next();\n",
    "            if (result.Success)\n",
    "                try\n",
    "                {\n",
    "                    return result.Value;\n",
    "                }\n",
    "                finally\n",
    "                {\n",
    "                    Task.Factory.StartNew(() => {\n",
    "                        if (keeper.HasValues())\n",
    "                            _buffersQueue.Enqueue(keeper);\n",
    "                        else\n",
    "                            ScheduleKeeperRestoration(keeper);\n",
    "                    });\n",
    "                }\n",
    "            else\n",
    "                ScheduleKeeperRestoration(keeper);\n",
    "        }\n",
    "    }\n",
    "\n",
    "    public async ValueTask<T> SmartNext()\n",
    "    {\n",
    "        while (true)\n",
    "        {\n",
    "            BufferKeeper<T> keeper;\n",
    "            var i = 0;\n",
    "            while (!_buffersQueue.TryDequeue(out keeper))\n",
    "            {\n",
    "                if (++i == 10)\n",
    "                    ScheduleKeeperRestoration(new BufferKeeper<T>(_bufferSize));\n",
    "                await Task.Delay(RetryPause);\n",
    "            }\n",
    "\n",
    "            var result = keeper.Next();\n",
    "            if (result.Success)\n",
    "                try\n",
    "                {\n",
    "                    return result.Value;\n",
    "                }\n",
    "                finally\n",
    "                {\n",
    "                    Task.Factory.StartNew(() => {\n",
    "                        if (keeper.HasValues())\n",
    "                            _buffersQueue.Enqueue(keeper);\n",
    "                        else\n",
    "                            ScheduleKeeperRestoration(keeper);\n",
    "                    });\n",
    "                }\n",
    "            else\n",
    "                ScheduleKeeperRestoration(keeper);\n",
    "        }\n",
    "    }\n",
    "\n",
    "    public async IAsyncEnumerable<T> Enumerate()\n",
    "    {\n",
    "        while (true)\n",
    "        {\n",
    "            BufferKeeper<T> keeper;\n",
    "            var i = 0;\n",
    "            while (!_buffersQueue.TryDequeue(out keeper))\n",
    "            {\n",
    "                if (++i == 10)\n",
    "                    ScheduleKeeperRestoration(new BufferKeeper<T>(_bufferSize));\n",
    "                await Task.Delay(RetryPause);\n",
    "            }\n",
    "            \n",
    "            var result = keeper.Next();\n",
    "            while (result.Success)\n",
    "            {\n",
    "                yield return result.Value;\n",
    "                result = keeper.Next();\n",
    "            }\n",
    "            \n",
    "            ScheduleKeeperRestoration(keeper);\n",
    "        }\n",
    "    }\n",
    "\n",
    "    abstract protected T GenerateRandomValue();\n",
    "\n",
    "    private void RestoreKeeper(BufferKeeper<T> keeper)\n",
    "    {\n",
    "        keeper.Restore(GenerateRandomValue);\n",
    "        _buffersQueue.Enqueue(keeper);\n",
    "    }\n",
    "    private void RestoreKeeper(Task _, object keeper) => RestoreKeeper((BufferKeeper<T>)keeper);\n",
    "    private void ScheduleKeeperRestoration(BufferKeeper<T> keeper) => _scheduler.Run(RestoreKeeper, keeper);\n",
    "\n",
    "    //public static Dispatcher Default { get; } = new Dispatcher(11);\n",
    "}\n",
    "\n",
    "/* todo: overloads for Next:\n",
    "    (T, T) Next2()\n",
    "    (T, T, T) Next3()\n",
    "    ...\n",
    "    T[] NextArray(int arraySize) via ArrayPool<T>\n",
    "*/\n",
    "// todo: init ArrayPool<T>(int expectetArraySize)"
   ]
  },
  {
   "cell_type": "code",
   "execution_count": null,
   "metadata": {
    "dotnet_interactive": {
     "language": "csharp"
    }
   },
   "outputs": [],
   "source": [
    "class RandomDoublesDispatcher : ARandomValuesDispatcher<double>\n",
    "{\n",
    "    public RandomDoublesDispatcher(uint queueSize, int bufferSize)\n",
    "        : base(queueSize, bufferSize)\n",
    "    {}\n",
    "\n",
    "    private Random _random = new Random();\n",
    "    override protected double GenerateRandomValue() => _random.NextDouble();\n",
    "}"
   ]
  },
  {
   "cell_type": "code",
   "execution_count": null,
   "metadata": {
    "dotnet_interactive": {
     "language": "csharp"
    }
   },
   "outputs": [
    {
     "data": {
      "text/html": [
       "<table><thead><tr><th><i>index</i></th><th>i</th><th>f</th></tr></thead><tbody><tr><td>0</td><td><div class=\"dni-plaintext\">7</div></td><td><div class=\"dni-plaintext\">0.6745169304554197</div></td></tr><tr><td>1</td><td><div class=\"dni-plaintext\">1</div></td><td><div class=\"dni-plaintext\">0.421430138455283</div></td></tr><tr><td>2</td><td><div class=\"dni-plaintext\">2</div></td><td><div class=\"dni-plaintext\">0.3071251046351373</div></td></tr><tr><td>3</td><td><div class=\"dni-plaintext\">4</div></td><td><div class=\"dni-plaintext\">0.07915111199007419</div></td></tr><tr><td>4</td><td><div class=\"dni-plaintext\">6</div></td><td><div class=\"dni-plaintext\">0.02184618358559498</div></td></tr><tr><td>5</td><td><div class=\"dni-plaintext\">8</div></td><td><div class=\"dni-plaintext\">0.6902024097420224</div></td></tr><tr><td>6</td><td><div class=\"dni-plaintext\">17</div></td><td><div class=\"dni-plaintext\">0.9999870312024891</div></td></tr><tr><td>7</td><td><div class=\"dni-plaintext\">18</div></td><td><div class=\"dni-plaintext\">0.45169375137867607</div></td></tr><tr><td>8</td><td><div class=\"dni-plaintext\">9</div></td><td><div class=\"dni-plaintext\">0.4507309906767031</div></td></tr><tr><td>9</td><td><div class=\"dni-plaintext\">10</div></td><td><div class=\"dni-plaintext\">0.5813048468323427</div></td></tr><tr><td>10</td><td><div class=\"dni-plaintext\">11</div></td><td><div class=\"dni-plaintext\">0.599101462542385</div></td></tr><tr><td>11</td><td><div class=\"dni-plaintext\">3</div></td><td><div class=\"dni-plaintext\">0.2624377783449041</div></td></tr><tr><td>12</td><td><div class=\"dni-plaintext\">19</div></td><td><div class=\"dni-plaintext\">0.6459125247868952</div></td></tr><tr><td>13</td><td><div class=\"dni-plaintext\">12</div></td><td><div class=\"dni-plaintext\">0.23551797514252726</div></td></tr><tr><td>14</td><td><div class=\"dni-plaintext\">13</div></td><td><div class=\"dni-plaintext\">0.38219901148193913</div></td></tr><tr><td>15</td><td><div class=\"dni-plaintext\">14</div></td><td><div class=\"dni-plaintext\">0.087567230695063</div></td></tr><tr><td>16</td><td><div class=\"dni-plaintext\">15</div></td><td><div class=\"dni-plaintext\">0.7429560470604128</div></td></tr><tr><td>17</td><td><div class=\"dni-plaintext\">16</div></td><td><div class=\"dni-plaintext\">0.014538424467000488</div></td></tr><tr><td>18</td><td><div class=\"dni-plaintext\">5</div></td><td><div class=\"dni-plaintext\">0.6258471114264844</div></td></tr></tbody></table>"
      ]
     },
     "metadata": {},
     "output_type": "display_data"
    }
   ],
   "source": [
    "var random = new RandomDoublesDispatcher(32, 1024);\n",
    "\n",
    "Enumerable.Range(1, 19).AsParallel().Select(i => new { i, f = random.SmartNext().Result, })"
   ]
  }
 ],
 "metadata": {
  "kernelspec": {
   "display_name": ".NET (C#)",
   "language": "C#",
   "name": ".net-csharp"
  },
  "language_info": {
   "name": "C#"
  }
 },
 "nbformat": 4,
 "nbformat_minor": 2
}
