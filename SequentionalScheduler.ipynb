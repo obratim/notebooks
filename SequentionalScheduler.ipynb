{
 "cells": [
  {
   "cell_type": "code",
   "execution_count": null,
   "metadata": {
    "dotnet_interactive": {
     "language": "csharp"
    }
   },
   "outputs": [],
   "source": [
    "using System.Threading.Tasks;\n",
    "\n",
    "static class SequentionalScheduler\n",
    "{\n",
    "    private static Task _prevTask = Task.CompletedTask;\n",
    "\n",
    "    private static readonly object GlobalLocker = new object();\n",
    "\n",
    "    public static Task Run(Action job)\n",
    "    {\n",
    "        lock (GlobalLocker)\n",
    "        {\n",
    "            return _prevTask = _prevTask.ContinueWith(t => job());\n",
    "        }\n",
    "    }\n",
    "\n",
    "    public static Task Run(Func<Task> job)\n",
    "    {\n",
    "        lock (GlobalLocker)\n",
    "        {\n",
    "            return _prevTask = _prevTask.ContinueWith(t => job());\n",
    "        }\n",
    "    }\n",
    "}"
   ]
  },
  {
   "cell_type": "code",
   "execution_count": null,
   "metadata": {
    "dotnet_interactive": {
     "language": "csharp"
    }
   },
   "outputs": [
    {
     "data": {
      "text/plain": [
       "Hello, world!"
      ]
     },
     "metadata": {},
     "output_type": "display_data"
    }
   ],
   "source": [
    "SequentionalScheduler.Run(() => \"Hello, world!\".Display());\n",
    "await Task.Delay(TimeSpan.FromMilliseconds(200));"
   ]
  },
  {
   "cell_type": "code",
   "execution_count": null,
   "metadata": {
    "dotnet_interactive": {
     "language": "csharp"
    }
   },
   "outputs": [
    {
     "data": {
      "text/plain": [
       "performing task 16"
      ]
     },
     "metadata": {},
     "output_type": "display_data"
    },
    {
     "data": {
      "text/plain": [
       "performing task 20"
      ]
     },
     "metadata": {},
     "output_type": "display_data"
    },
    {
     "data": {
      "text/plain": [
       "performing task 3"
      ]
     },
     "metadata": {},
     "output_type": "display_data"
    },
    {
     "data": {
      "text/plain": [
       "performing task 11"
      ]
     },
     "metadata": {},
     "output_type": "display_data"
    },
    {
     "data": {
      "text/plain": [
       "performing task 12"
      ]
     },
     "metadata": {},
     "output_type": "display_data"
    },
    {
     "data": {
      "text/plain": [
       "performing task 6"
      ]
     },
     "metadata": {},
     "output_type": "display_data"
    },
    {
     "data": {
      "text/plain": [
       "performing task 10"
      ]
     },
     "metadata": {},
     "output_type": "display_data"
    },
    {
     "data": {
      "text/plain": [
       "performing task 7"
      ]
     },
     "metadata": {},
     "output_type": "display_data"
    },
    {
     "data": {
      "text/plain": [
       "performing task 9"
      ]
     },
     "metadata": {},
     "output_type": "display_data"
    },
    {
     "data": {
      "text/plain": [
       "performing task 4"
      ]
     },
     "metadata": {},
     "output_type": "display_data"
    },
    {
     "data": {
      "text/plain": [
       "performing task 18"
      ]
     },
     "metadata": {},
     "output_type": "display_data"
    },
    {
     "data": {
      "text/plain": [
       "performing task 2"
      ]
     },
     "metadata": {},
     "output_type": "display_data"
    },
    {
     "data": {
      "text/plain": [
       "performing task 15"
      ]
     },
     "metadata": {},
     "output_type": "display_data"
    },
    {
     "data": {
      "text/plain": [
       "performing task 8"
      ]
     },
     "metadata": {},
     "output_type": "display_data"
    },
    {
     "data": {
      "text/plain": [
       "performing task 19"
      ]
     },
     "metadata": {},
     "output_type": "display_data"
    },
    {
     "data": {
      "text/plain": [
       "performing task 13"
      ]
     },
     "metadata": {},
     "output_type": "display_data"
    },
    {
     "data": {
      "text/plain": [
       "performing task 14"
      ]
     },
     "metadata": {},
     "output_type": "display_data"
    },
    {
     "data": {
      "text/plain": [
       "performing task 17"
      ]
     },
     "metadata": {},
     "output_type": "display_data"
    },
    {
     "data": {
      "text/plain": [
       "performing task 1"
      ]
     },
     "metadata": {},
     "output_type": "display_data"
    },
    {
     "data": {
      "text/plain": [
       "performing task 5"
      ]
     },
     "metadata": {},
     "output_type": "display_data"
    }
   ],
   "source": [
    "Enumerable.Range(1, 20).AsParallel().ForAll(i => {\n",
    "    SequentionalScheduler.Run(async () => {\n",
    "        await Task.Delay(TimeSpan.FromSeconds(2));\n",
    "        $\"performing task {i}\".Display();\n",
    "    });\n",
    "});\n",
    "\n",
    "await Task.Delay(TimeSpan.FromSeconds(10));"
   ]
  },
  {
   "cell_type": "code",
   "execution_count": null,
   "metadata": {
    "dotnet_interactive": {
     "language": "csharp"
    }
   },
   "outputs": [
    {
     "data": {
      "text/plain": [
       "sum 65 535: 2 147 450 880"
      ]
     },
     "metadata": {},
     "output_type": "display_data"
    }
   ],
   "source": [
    "int Sum(int n) => Enumerable.Range(1, n).Sum();\n",
    "\n",
    "void PrintSum(int n) => SequentionalScheduler.Run(() => $\"sum {n:N0}: {Sum(n):N0}\".Display());\n",
    "PrintSum(65_535);\n",
    "PrintSum(65_536);\n",
    "\n",
    "await Task.Delay(TimeSpan.FromSeconds(0.5));"
   ]
  },
  {
   "cell_type": "code",
   "execution_count": null,
   "metadata": {
    "dotnet_interactive": {
     "language": "csharp"
    }
   },
   "outputs": [
    {
     "data": {
      "text/plain": [
       "sum 65 536: 2 147 450 880"
      ]
     },
     "metadata": {},
     "output_type": "display_data"
    },
    {
     "data": {
      "text/plain": [
       "sum 100 000 000: 4 999 999 950 000 000"
      ]
     },
     "metadata": {},
     "output_type": "display_data"
    },
    {
     "data": {
      "text/plain": [
       "sum 134 217 728: 9 007 199 187 632 128"
      ]
     },
     "metadata": {},
     "output_type": "display_data"
    }
   ],
   "source": [
    "IEnumerable<ulong> Range (ulong n) { for (var i = 0UL; i < n; ++i) yield return i; }\n",
    "decimal Sum(ulong n) => Range(n).Sum(i => (decimal)i);\n",
    "\n",
    "void PrintSum(ulong n) => SequentionalScheduler.Run(() => $\"sum {n:N0}: {Sum(n):N0}\".Display());\n",
    "PrintSum(65_536L);\n",
    "PrintSum(100_000_000L);\n",
    "\n",
    "ulong Pow2(uint n) => (ulong)Math.Pow(2, n);\n",
    "void Sum(uint n) => Sum(Pow2(n));\n",
    "void PrintSum(uint n) => PrintSum(Pow2(n));\n",
    "PrintSum(27u);\n",
    "\n",
    "await Task.Delay(TimeSpan.FromSeconds(7));"
   ]
  },
  {
   "cell_type": "code",
   "execution_count": null,
   "metadata": {
    "dotnet_interactive": {
     "language": "csharp"
    }
   },
   "outputs": [],
   "source": [
    "void RunVanilla(int start, int count)\n",
    "{\n",
    "    Enumerable.Range(start, count).AsParallel().ForAll(i => {\n",
    "        var n = Pow2((uint)i);\n",
    "        $\"{i}: sum {n:N0} = {Sum(n):N0}\".Display();\n",
    "    });\n",
    "}\n",
    "\n",
    "async Task RunWithSequentionalScheduler(int start, int count)\n",
    "{\n",
    "    var tasks = new List<Task>();\n",
    "\n",
    "    Enumerable.Range(start, count).AsParallel().ForAll(i => {\n",
    "        var n = Pow2((uint)i);\n",
    "        tasks.Add(SequentionalScheduler.Run(() => $\"{i}: sum {n:N0} = {Sum(n):N0}\".Display()));\n",
    "    });\n",
    "\n",
    "    \"tasks scheduled\".Display();\n",
    "\n",
    "    await Task.WhenAll(tasks);\n",
    "}"
   ]
  },
  {
   "cell_type": "code",
   "execution_count": null,
   "metadata": {
    "dotnet_interactive": {
     "language": "csharp"
    }
   },
   "outputs": [
    {
     "data": {
      "text/plain": [
       "21: sum 2 097 152 = 2 199 022 206 976"
      ]
     },
     "metadata": {},
     "output_type": "display_data"
    },
    {
     "data": {
      "text/plain": [
       "22: sum 4 194 304 = 8 796 090 925 056"
      ]
     },
     "metadata": {},
     "output_type": "display_data"
    },
    {
     "data": {
      "text/plain": [
       "23: sum 8 388 608 = 35 184 367 894 528"
      ]
     },
     "metadata": {},
     "output_type": "display_data"
    },
    {
     "data": {
      "text/plain": [
       "24: sum 16 777 216 = 140 737 479 966 720"
      ]
     },
     "metadata": {},
     "output_type": "display_data"
    },
    {
     "data": {
      "text/plain": [
       "25: sum 33 554 432 = 562 949 936 644 096"
      ]
     },
     "metadata": {},
     "output_type": "display_data"
    },
    {
     "data": {
      "text/plain": [
       "26: sum 67 108 864 = 2 251 799 780 130 816"
      ]
     },
     "metadata": {},
     "output_type": "display_data"
    },
    {
     "data": {
      "text/plain": [
       "27: sum 134 217 728 = 9 007 199 187 632 128"
      ]
     },
     "metadata": {},
     "output_type": "display_data"
    },
    {
     "data": {
      "text/plain": [
       "28: sum 268 435 456 = 36 028 796 884 746 240"
      ]
     },
     "metadata": {},
     "output_type": "display_data"
    },
    {
     "data": {
      "text/plain": [
       "29: sum 536 870 912 = 144 115 187 807 420 416"
      ]
     },
     "metadata": {},
     "output_type": "display_data"
    }
   ],
   "source": [
    "RunVanilla(21, 9);"
   ]
  },
  {
   "cell_type": "code",
   "execution_count": null,
   "metadata": {
    "dotnet_interactive": {
     "language": "csharp"
    }
   },
   "outputs": [
    {
     "data": {
      "text/plain": [
       "tasks scheduled"
      ]
     },
     "metadata": {},
     "output_type": "display_data"
    },
    {
     "data": {
      "text/plain": [
       "21: sum 2 097 152 = 2 199 022 206 976"
      ]
     },
     "metadata": {},
     "output_type": "display_data"
    },
    {
     "data": {
      "text/plain": [
       "22: sum 4 194 304 = 8 796 090 925 056"
      ]
     },
     "metadata": {},
     "output_type": "display_data"
    },
    {
     "data": {
      "text/plain": [
       "25: sum 33 554 432 = 562 949 936 644 096"
      ]
     },
     "metadata": {},
     "output_type": "display_data"
    },
    {
     "data": {
      "text/plain": [
       "23: sum 8 388 608 = 35 184 367 894 528"
      ]
     },
     "metadata": {},
     "output_type": "display_data"
    },
    {
     "data": {
      "text/plain": [
       "26: sum 67 108 864 = 2 251 799 780 130 816"
      ]
     },
     "metadata": {},
     "output_type": "display_data"
    },
    {
     "data": {
      "text/plain": [
       "24: sum 16 777 216 = 140 737 479 966 720"
      ]
     },
     "metadata": {},
     "output_type": "display_data"
    },
    {
     "data": {
      "text/plain": [
       "27: sum 134 217 728 = 9 007 199 187 632 128"
      ]
     },
     "metadata": {},
     "output_type": "display_data"
    },
    {
     "data": {
      "text/plain": [
       "29: sum 536 870 912 = 144 115 187 807 420 416"
      ]
     },
     "metadata": {},
     "output_type": "display_data"
    },
    {
     "data": {
      "text/plain": [
       "28: sum 268 435 456 = 36 028 796 884 746 240"
      ]
     },
     "metadata": {},
     "output_type": "display_data"
    }
   ],
   "source": [
    "await RunWithSequentionalScheduler(21, 9);"
   ]
  },
  {
   "cell_type": "code",
   "execution_count": null,
   "metadata": {
    "dotnet_interactive": {
     "language": "csharp"
    }
   },
   "outputs": [
    {
     "data": {
      "text/plain": [
       "29: sum 536 870 912 = 144 115 187 807 420 416"
      ]
     },
     "metadata": {},
     "output_type": "display_data"
    }
   ],
   "source": [
    "RunVanilla(29, 1);"
   ]
  },
  {
   "cell_type": "code",
   "execution_count": null,
   "metadata": {
    "dotnet_interactive": {
     "language": "csharp"
    }
   },
   "outputs": [
    {
     "data": {
      "text/plain": [
       "tasks scheduled"
      ]
     },
     "metadata": {},
     "output_type": "display_data"
    },
    {
     "data": {
      "text/plain": [
       "29: sum 536 870 912 = 144 115 187 807 420 416"
      ]
     },
     "metadata": {},
     "output_type": "display_data"
    }
   ],
   "source": [
    "await RunWithSequentionalScheduler(29, 1);"
   ]
  }
 ],
 "metadata": {
  "interpreter": {
   "hash": "8a94588eda9d64d9e9a351ab8144e55b1fabf5113b54e67dd26a8c27df0381b3"
  },
  "kernelspec": {
   "display_name": ".NET (C#)",
   "language": "C#",
   "name": ".net-csharp"
  },
  "language_info": {
   "file_extension": ".cs",
   "mimetype": "text/x-csharp",
   "name": "C#",
   "pygments_lexer": "csharp",
   "version": "9.0"
  }
 },
 "nbformat": 4,
 "nbformat_minor": 2
}
