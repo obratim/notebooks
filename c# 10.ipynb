{
 "cells": [
  {
   "cell_type": "code",
   "execution_count": null,
   "metadata": {
    "dotnet_interactive": {
     "language": "csharp"
    }
   },
   "outputs": [
    {
     "data": {
      "text/plain": [
       "hello"
      ]
     },
     "metadata": {},
     "output_type": "display_data"
    }
   ],
   "source": [
    "\"hello\""
   ]
  },
  {
   "cell_type": "code",
   "execution_count": null,
   "metadata": {
    "dotnet_interactive": {
     "language": "csharp"
    }
   },
   "outputs": [
    {
     "data": {
      "text/html": [
       "<div class=\"dni-plaintext\">0.30000000000000004</div>"
      ]
     },
     "metadata": {},
     "output_type": "display_data"
    }
   ],
   "source": [
    "0.1 + 0.2"
   ]
  },
  {
   "cell_type": "markdown",
   "metadata": {
    "dotnet_interactive": {
     "language": "csharp"
    }
   },
   "source": [
    "# this is markdown"
   ]
  },
  {
   "cell_type": "code",
   "execution_count": null,
   "metadata": {
    "dotnet_interactive": {
     "language": "csharp"
    }
   },
   "outputs": [
    {
     "data": {
      "text/plain": [
       "C# again"
      ]
     },
     "metadata": {},
     "output_type": "display_data"
    }
   ],
   "source": [
    "string.Join(\" \", \"C#\", \"again\")"
   ]
  },
  {
   "cell_type": "code",
   "execution_count": null,
   "metadata": {
    "dotnet_interactive": {
     "language": "csharp"
    }
   },
   "outputs": [],
   "source": [
    "var tmp = new { str = \"hello\" };"
   ]
  },
  {
   "cell_type": "code",
   "execution_count": null,
   "metadata": {
    "dotnet_interactive": {
     "language": "csharp"
    }
   },
   "outputs": [
    {
     "data": {
      "text/html": [
       "<table><thead><tr><th>str</th></tr></thead><tbody><tr><td><div class=\"dni-plaintext\">hello world!</div></td></tr></tbody></table>"
      ]
     },
     "metadata": {},
     "output_type": "display_data"
    }
   ],
   "source": [
    "(tmp with { str = tmp.str + \" world!\" })"
   ]
  },
  {
   "cell_type": "code",
   "execution_count": null,
   "metadata": {
    "dotnet_interactive": {
     "language": "csharp"
    }
   },
   "outputs": [],
   "source": [
    "var timeGetter = static DateTime? () => DateTime.Now;"
   ]
  },
  {
   "cell_type": "code",
   "execution_count": null,
   "metadata": {
    "dotnet_interactive": {
     "language": "csharp"
    }
   },
   "outputs": [
    {
     "data": {
      "text/html": [
       "<span>2022-01-20 01:35:24Z</span>"
      ]
     },
     "metadata": {},
     "output_type": "display_data"
    }
   ],
   "source": [
    "timeGetter()"
   ]
  },
  {
   "cell_type": "code",
   "execution_count": null,
   "metadata": {
    "dotnet_interactive": {
     "language": "csharp"
    }
   },
   "outputs": [
    {
     "data": {
      "text/plain": [
       "System.Func`1[[System.Nullable`1[[System.DateTime, System.Private.CoreLib, Version=6.0.0.0, Culture=neutral, PublicKeyToken=7cec85d7bea7798e]], System.Private.CoreLib, Version=6.0.0.0, Culture=neutral, PublicKeyToken=7cec85d7bea7798e]]"
      ]
     },
     "metadata": {},
     "output_type": "display_data"
    }
   ],
   "source": [
    "timeGetter.GetType().FullName"
   ]
  },
  {
   "cell_type": "code",
   "execution_count": null,
   "metadata": {
    "dotnet_interactive": {
     "language": "csharp"
    }
   },
   "outputs": [
    {
     "data": {
      "text/html": [
       "<span><a href=\"https://docs.microsoft.com/dotnet/api/system.func-1?view=net-5.0\">System.Func&lt;System.Int32&gt;</a></span>"
      ]
     },
     "metadata": {},
     "output_type": "display_data"
    }
   ],
   "source": [
    "var method = Console.Read;\n",
    "(method).GetType()"
   ]
  },
  {
   "cell_type": "code",
   "execution_count": null,
   "metadata": {
    "dotnet_interactive": {
     "language": "csharp"
    }
   },
   "outputs": [
    {
     "data": {
      "text/html": [
       "<table><thead><tr><th><i>index</i></th><th>i</th><th>f</th></tr></thead><tbody><tr><td>0</td><td><div class=\"dni-plaintext\">2</div></td><td><div class=\"dni-plaintext\">0.12665700483417597</div></td></tr><tr><td>1</td><td><div class=\"dni-plaintext\">3</div></td><td><div class=\"dni-plaintext\">0.4844188774931131</div></td></tr><tr><td>2</td><td><div class=\"dni-plaintext\">1</div></td><td><div class=\"dni-plaintext\">0.5377098066683819</div></td></tr><tr><td>3</td><td><div class=\"dni-plaintext\">4</div></td><td><div class=\"dni-plaintext\">0.08544924315815172</div></td></tr><tr><td>4</td><td><div class=\"dni-plaintext\">5</div></td><td><div class=\"dni-plaintext\">0.5624089727760161</div></td></tr><tr><td>5</td><td><div class=\"dni-plaintext\">6</div></td><td><div class=\"dni-plaintext\">0.48635301393915653</div></td></tr><tr><td>6</td><td><div class=\"dni-plaintext\">7</div></td><td><div class=\"dni-plaintext\">0.8569820596679611</div></td></tr><tr><td>7</td><td><div class=\"dni-plaintext\">8</div></td><td><div class=\"dni-plaintext\">0.9445658038436963</div></td></tr><tr><td>8</td><td><div class=\"dni-plaintext\">9</div></td><td><div class=\"dni-plaintext\">0.26807259121823057</div></td></tr><tr><td>9</td><td><div class=\"dni-plaintext\">10</div></td><td><div class=\"dni-plaintext\">0.8068979344481494</div></td></tr></tbody></table>"
      ]
     },
     "metadata": {},
     "output_type": "display_data"
    }
   ],
   "source": [
    "Enumerable.Range(1, 10).AsParallel().Select(i => new {i, f = Random.Shared.NextDouble()})"
   ]
  },
  {
   "cell_type": "code",
   "execution_count": null,
   "metadata": {
    "dotnet_interactive": {
     "language": "csharp"
    }
   },
   "outputs": [
    {
     "data": {
      "text/plain": [
       "System.Random+ThreadSafeRandom"
      ]
     },
     "metadata": {},
     "output_type": "display_data"
    },
    {
     "data": {
      "text/html": [
       "<table><thead><tr><th><i>index</i></th><th>i</th><th>f</th></tr></thead><tbody><tr><td>0</td><td><div class=\"dni-plaintext\">1</div></td><td><div class=\"dni-plaintext\">0.7826776557778145</div></td></tr><tr><td>1</td><td><div class=\"dni-plaintext\">2</div></td><td><div class=\"dni-plaintext\">0.12038253065832238</div></td></tr><tr><td>2</td><td><div class=\"dni-plaintext\">3</div></td><td><div class=\"dni-plaintext\">0.7706787040132688</div></td></tr><tr><td>3</td><td><div class=\"dni-plaintext\">4</div></td><td><div class=\"dni-plaintext\">0.5720647848628316</div></td></tr><tr><td>4</td><td><div class=\"dni-plaintext\">5</div></td><td><div class=\"dni-plaintext\">0.33514808799077445</div></td></tr><tr><td>5</td><td><div class=\"dni-plaintext\">6</div></td><td><div class=\"dni-plaintext\">0.8638809036657279</div></td></tr><tr><td>6</td><td><div class=\"dni-plaintext\">7</div></td><td><div class=\"dni-plaintext\">0.036130625621233814</div></td></tr><tr><td>7</td><td><div class=\"dni-plaintext\">8</div></td><td><div class=\"dni-plaintext\">0.7769853063768082</div></td></tr><tr><td>8</td><td><div class=\"dni-plaintext\">9</div></td><td><div class=\"dni-plaintext\">0.9128486005187387</div></td></tr><tr><td>9</td><td><div class=\"dni-plaintext\">10</div></td><td><div class=\"dni-plaintext\">0.36470829297758534</div></td></tr></tbody></table>"
      ]
     },
     "metadata": {},
     "output_type": "display_data"
    }
   ],
   "source": [
    "Random.Shared.GetType().FullName.Display();\n",
    "var r = Random.Shared;\n",
    "Enumerable.Range(1, 10).AsParallel().Select(i => new {i, f = r.NextDouble()})"
   ]
  },
  {
   "cell_type": "code",
   "execution_count": null,
   "metadata": {
    "dotnet_interactive": {
     "language": "csharp"
    }
   },
   "outputs": [
    {
     "ename": "Error",
     "evalue": "(1,27): error CS0122: \"Random.ThreadSafeRandom\" недоступен из-за его уровня защиты.",
     "output_type": "error",
     "traceback": [
      "(1,27): error CS0122: \"Random.ThreadSafeRandom\" недоступен из-за его уровня защиты."
     ]
    }
   ],
   "source": [
    "var r = new System.Random.ThreadSafeRandom();"
   ]
  }
 ],
 "metadata": {
  "kernelspec": {
   "display_name": ".NET (C#)",
   "language": "C#",
   "name": ".net-csharp"
  },
  "language_info": {
   "name": "C#"
  }
 },
 "nbformat": 4,
 "nbformat_minor": 2
}
